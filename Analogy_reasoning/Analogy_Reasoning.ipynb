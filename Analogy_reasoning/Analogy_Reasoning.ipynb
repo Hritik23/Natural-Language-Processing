{
 "cells": [
  {
   "cell_type": "code",
   "execution_count": 1,
   "id": "08606444",
   "metadata": {},
   "outputs": [],
   "source": [
    "import numpy as np"
   ]
  },
  {
   "cell_type": "code",
   "execution_count": 2,
   "id": "3c3e407d",
   "metadata": {},
   "outputs": [],
   "source": [
    "#Importing the word embeddings from the 'glove.6B.50d.txt' file\n",
    "f=open(\"glove.6B.50d.txt\", \"r\", encoding='utf8')\n",
    "word_to_vec_map={}\n",
    "\n",
    "for line in f:\n",
    "    var_list=line.strip().split()\n",
    "    word_to_vec_map[var_list[0]]=np.array( var_list[1:] , dtype=float)\n",
    "    \n",
    "f.close()"
   ]
  },
  {
   "cell_type": "code",
   "execution_count": 3,
   "id": "d707d08b",
   "metadata": {},
   "outputs": [
    {
     "name": "stdout",
     "output_type": "stream",
     "text": [
      "Dimensions of word Embeddings : (50,)\n",
      "Vocab Size :  400000\n"
     ]
    }
   ],
   "source": [
    "#Analysing the word embeddings\n",
    "print(\"Dimensions of word Embeddings :\" , word_to_vec_map['mother'].shape)\n",
    "print(\"Vocab Size : \",len(word_to_vec_map.keys() ) )"
   ]
  },
  {
   "cell_type": "code",
   "execution_count": 4,
   "id": "fa39aee4",
   "metadata": {},
   "outputs": [],
   "source": [
    "def cosine_similarity(u, v):\n",
    "    \"\"\"\n",
    "    This computes the cosine similarity of two given vectors.\n",
    "    Arguments:\n",
    "        u: Vector of shape(n,)\n",
    "        v: Vector of shape(n,)\n",
    "        \n",
    "    Returns:\n",
    "        cosine similarity of given vectors\n",
    "    \"\"\"\n",
    "    dot=np.dot(u,v)\n",
    "    u_mod=np.sqrt( np.dot(u,u) )\n",
    "    v_mod=np.sqrt( np.dot(v,v) )\n",
    "    \n",
    "    return dot/(u_mod*v_mod)"
   ]
  },
  {
   "cell_type": "code",
   "execution_count": 5,
   "id": "879e2ca1",
   "metadata": {},
   "outputs": [],
   "source": [
    "def euclid_distance_similarity(u,v):\n",
    "    \"\"\"\n",
    "    This computes the negative-euclidean-distance-similarity.\n",
    "    \"\"\"\n",
    "    e_dist=np.dot(u-v, u-v)\n",
    "    \n",
    "    return -e_dist"
   ]
  },
  {
   "cell_type": "code",
   "execution_count": null,
   "id": "3dd3826b",
   "metadata": {},
   "outputs": [],
   "source": [
    "def jaccard_similarity(u, v):\n",
    "    "
   ]
  },
  {
   "cell_type": "code",
   "execution_count": 6,
   "id": "5600f26b",
   "metadata": {},
   "outputs": [
    {
     "name": "stdout",
     "output_type": "stream",
     "text": [
      "0.8909038442893615\n",
      "0.5654517453660549\n",
      "0.8626543013758097\n",
      "0.6608601608976962\n"
     ]
    }
   ],
   "source": [
    "#Let's check some of the similarities\n",
    "father=word_to_vec_map['father']\n",
    "mother=word_to_vec_map['mother']\n",
    "delhi=word_to_vec_map['delhi']\n",
    "india=word_to_vec_map['india']\n",
    "canada=word_to_vec_map[\"canada\"]\n",
    "ottawa=word_to_vec_map[\"ottawa\"]\n",
    "\n",
    "print(cosine_similarity(father, mother))\n",
    "print(cosine_similarity(india, canada))\n",
    "print(cosine_similarity(canada-india, ottawa-delhi))\n",
    "print(cosine_similarity(canada-ottawa, india-delhi))"
   ]
  },
  {
   "cell_type": "code",
   "execution_count": 8,
   "id": "e8b28273",
   "metadata": {},
   "outputs": [],
   "source": [
    "def analogy_reasoning(w1,w2,w3, word_to_vec_map):\n",
    "    \"\"\"\n",
    "    Given 3 words, this computes the fourth word with analogy-reasoning.\n",
    "    \n",
    "    Arguments:\n",
    "        w1, w2, w3: String of 1st, 2nd, 3rd word respectively.\n",
    "        word_to_vec_map: Dictionary containing words and their corresponding Embeddings.\n",
    "    \n",
    "    Return:\n",
    "        Completes the analogy by providing decent word.\n",
    "    \"\"\"\n",
    "    w1,w2,w3 =w1.lower(), w2.lower(), w3.lower()\n",
    "    \n",
    "    e1, e2, e3=word_to_vec_map[w1], word_to_vec_map[w2], word_to_vec_map[w3] \n",
    "    words_list=word_to_vec_map.keys()\n",
    "    given_words=[w1,w2,w3]\n",
    "    \n",
    "    max=float( '-inf' )\n",
    "    for word in words_list:\n",
    "        if word in given_words:\n",
    "            continue\n",
    "        e_word=word_to_vec_map[word]\n",
    "        #max_sim=cosine_similarity(e3+e2-e1, e_word)\n",
    "        max_sim=euclid_distance_similarity(e3+e2-e1,e_word)\n",
    "        if max_sim>max:\n",
    "            max=max_sim\n",
    "            my_word=word\n",
    "    return my_word"
   ]
  },
  {
   "cell_type": "code",
   "execution_count": 9,
   "id": "f695c53a",
   "metadata": {},
   "outputs": [
    {
     "name": "stdout",
     "output_type": "stream",
     "text": [
      "italy -> italian :: spain -> spanish\n",
      "india -> delhi :: japan -> tokyo\n",
      "man -> woman :: boy -> girl\n",
      "small -> smaller :: large -> larger\n",
      "canada -> india :: ottawa -> delhi\n",
      "canada -> ottawa :: india -> delhi\n"
     ]
    }
   ],
   "source": [
    "#Let's do some analogies\n",
    "\n",
    "triads_to_try = [('italy', 'italian', 'spain'), ('india', 'delhi', 'japan'), ('man', 'woman', 'boy'),\\\n",
    "                 ('small', 'smaller', 'large'), (\"canada\", \"india\", \"ottawa\"), (\"canada\", \"ottawa\", \"india\")]\n",
    "for triad in triads_to_try:\n",
    "    print ('{} -> {} :: {} -> {}'.format( *triad, analogy_reasoning(*triad,word_to_vec_map)))"
   ]
  },
  {
   "cell_type": "code",
   "execution_count": 21,
   "id": "dd52fd81",
   "metadata": {},
   "outputs": [
    {
     "name": "stdout",
     "output_type": "stream",
     "text": [
      "man -> doctor :: woman -> nurse\n",
      "woman -> doctor :: man -> colleague\n",
      "india -> action :: pakistan -> threats\n",
      "black -> athlete :: white -> participant\n"
     ]
    }
   ],
   "source": [
    "#Let's do some more analogies.\n",
    "triads_to_try = [( \"man\", \"doctor\", \"woman\" ),(\"woman\",'doctor',\"man\" ), ( \"india\", \"action\", \"pakistan\" ), \\\n",
    "                 ( \"black\", \"athlete\",  \"white\" )]\n",
    "for triad in triads_to_try:\n",
    "    print ('{} -> {} :: {} -> {}'.format( *triad, analogy_reasoning(*triad,word_to_vec_map)))"
   ]
  },
  {
   "cell_type": "markdown",
   "id": "0f9ae62d",
   "metadata": {},
   "source": [
    "[Reference for the Embeddings](https://nlp.stanford.edu/projects/glove/)"
   ]
  }
 ],
 "metadata": {
  "kernelspec": {
   "display_name": "Python 3.7 (mission)",
   "language": "python",
   "name": "mission"
  },
  "language_info": {
   "codemirror_mode": {
    "name": "ipython",
    "version": 3
   },
   "file_extension": ".py",
   "mimetype": "text/x-python",
   "name": "python",
   "nbconvert_exporter": "python",
   "pygments_lexer": "ipython3",
   "version": "3.7.11"
  }
 },
 "nbformat": 4,
 "nbformat_minor": 5
}
